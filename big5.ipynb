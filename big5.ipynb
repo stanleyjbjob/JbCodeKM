{
 "cells": [
  {
   "cell_type": "markdown",
   "metadata": {},
   "source": [
    "Big5編碼遇到特殊字時\n",
    "會因為編碼的判斷造成誤判字源大小\n",
    "以下輸入\"伃\"時\n",
    "轉為bytes再轉回string後\n",
    "文字變為?\n",
    "以至於誤判長度為1"
   ]
  },
  {
   "cell_type": "code",
   "execution_count": 20,
   "metadata": {
    "dotnet_interactive": {
     "language": "csharp"
    },
    "polyglot_notebook": {
     "kernelName": "csharp"
    },
    "vscode": {
     "languageId": "polyglot-notebook"
    }
   },
   "outputs": [
    {
     "name": "stdout",
     "output_type": "stream",
     "text": [
      "不同\n",
      "?\n",
      "1\n"
     ]
    }
   ],
   "source": [
    "string chineseText = \"伃\";\n",
    "var encode=System.Text.Encoding.GetEncoding(\"big5\");\n",
    "var bytes=encode.GetBytes(chineseText);\n",
    "if(chineseText.Equals(encode.GetString(bytes)))\n",
    "{\n",
    "    Console.WriteLine(\"相同\");\n",
    "}\n",
    "else\n",
    "{\n",
    "    Console.WriteLine(\"不同\");\n",
    "}\n",
    "Console.WriteLine(encode.GetString(bytes));\n",
    "int byteCount = encode.GetByteCount(chineseText);\n",
    "Console.WriteLine(byteCount);\n"
   ]
  },
  {
   "cell_type": "code",
   "execution_count": 19,
   "metadata": {
    "dotnet_interactive": {
     "language": "csharp"
    },
    "polyglot_notebook": {
     "kernelName": "csharp"
    },
    "vscode": {
     "languageId": "polyglot-notebook"
    }
   },
   "outputs": [
    {
     "name": "stdout",
     "output_type": "stream",
     "text": [
      "相同\n",
      "林\n",
      "2\n"
     ]
    }
   ],
   "source": [
    "string chineseText = \"林\";\n",
    "var encode=System.Text.Encoding.GetEncoding(\"big5\");\n",
    "var bytes=encode.GetBytes(chineseText);\n",
    "if(chineseText.Equals(encode.GetString(bytes)))\n",
    "{\n",
    "    Console.WriteLine(\"相同\");\n",
    "}\n",
    "else\n",
    "{\n",
    "    Console.WriteLine(\"不同\");\n",
    "}\n",
    "Console.WriteLine(encode.GetString(bytes));\n",
    "int byteCount = encode.GetByteCount(chineseText);\n",
    "Console.WriteLine(byteCount);\n"
   ]
  }
 ],
 "metadata": {
  "language_info": {
   "name": "csharp"
  }
 },
 "nbformat": 4,
 "nbformat_minor": 2
}
